{
  "cells": [
    {
      "cell_type": "markdown",
      "id": "9d3c07ee-c3bf-4530-812a-36405502b38d",
      "metadata": {
        "id": "9d3c07ee-c3bf-4530-812a-36405502b38d"
      },
      "source": [
        "# Anyone AI - Project III\n",
        "\n",
        "# Home Credit Default Risk\n"
      ]
    },
    {
      "cell_type": "markdown",
      "id": "b5a8ce13-f23a-41bf-a8c7-d432ebcbe0c1",
      "metadata": {
        "id": "b5a8ce13-f23a-41bf-a8c7-d432ebcbe0c1"
      },
      "source": [
        "You've been learning a lot about Machine Learning Algorithms, now we you're gonna be asked to put it all togheter. "
      ]
    },
    {
      "cell_type": "markdown",
      "id": "58ca3658-e8a1-41ba-a823-1a88ca9ef34b",
      "metadata": {
        "id": "58ca3658-e8a1-41ba-a823-1a88ca9ef34b"
      },
      "source": [
        "You will create a complete pipeline to preprocess the data, train your model and then predict values for the [Home Credit Default Risk](https://www.kaggle.com/competitions/home-credit-default-risk/) Kaggle competition."
      ]
    },
    {
      "cell_type": "markdown",
      "id": "e396c950-04b0-453e-b930-a22a96cee2d1",
      "metadata": {
        "id": "e396c950-04b0-453e-b930-a22a96cee2d1"
      },
      "source": [
        "## 1. Introduction"
      ]
    },
    {
      "cell_type": "markdown",
      "id": "6a305c07-e042-4c59-8aea-03475afc09dd",
      "metadata": {
        "id": "6a305c07-e042-4c59-8aea-03475afc09dd"
      },
      "source": [
        "This is a binary Classification task: we want to predict whether the person applying for a home credit will be able to repay its debt or not.\n",
        "\n",
        "The dataset is composed of multiple files with different information about loands taken. In this project we're going to exclusively work with the main files: application_train.csv and application_test.csv.\n",
        "\n",
        "We will use [Area Under the ROC Curve](https://developers.google.com/machine-learning/crash-course/classification/roc-and-auc?hl=es_419) as the evaluation metric, so our models will have to return the probabilities that a loan is not paid for each row."
      ]
    },
    {
      "cell_type": "markdown",
      "id": "3ab085b5-379c-4e02-9f96-08edf5dbf887",
      "metadata": {
        "id": "3ab085b5-379c-4e02-9f96-08edf5dbf887"
      },
      "source": [
        "### Getting the data\n",
        "\n",
        "To access the data for this project, you only need to execute the code below. This will download three files:\n",
        "\n",
        "- `application_train.csv`: Training dataset you must use to train and find the best hyperparameters on your model.\n",
        "- `application_test.csv`: Test dataset, use it only when you are done choosing the model and the parameters.\n",
        "- `HomeCredit_columns_description.csv`: This file contains descriptions for the columns in train and test datasets.\n"
      ]
    },
    {
      "cell_type": "markdown",
      "id": "hLbJP4buUstA",
      "metadata": {
        "id": "hLbJP4buUstA"
      },
      "source": [
        "**Don't change anything in this cell, just make it run correctly**"
      ]
    },
    {
      "cell_type": "code",
      "execution_count": 1,
      "id": "b58f961d",
      "metadata": {},
      "outputs": [
        {
          "name": "stderr",
          "output_type": "stream",
          "text": [
            "Downloading...\n",
            "From: https://drive.google.com/uc?id=1CAhmDRZLsIX1rYmUHOI8n2oatGQKGeHt\n",
            "To: c:\\Users\\julia\\Repos\\anyone_ai\\home_credit_default_risk\\application_test.csv\n",
            "\n",
            "  0%|          | 0.00/50.2M [00:00<?, ?B/s]\n",
            "  1%|          | 524k/50.2M [00:00<00:21, 2.33MB/s]\n",
            "  4%|▍         | 2.10M/50.2M [00:00<00:06, 7.32MB/s]\n",
            " 11%|█▏        | 5.77M/50.2M [00:00<00:02, 16.8MB/s]\n",
            " 18%|█▊        | 8.91M/50.2M [00:00<00:01, 21.1MB/s]\n",
            " 24%|██▍       | 12.1M/50.2M [00:00<00:01, 23.7MB/s]\n",
            " 30%|███       | 15.2M/50.2M [00:00<00:01, 25.5MB/s]\n",
            " 37%|███▋      | 18.4M/50.2M [00:00<00:01, 26.3MB/s]\n",
            " 43%|████▎     | 21.5M/50.2M [00:01<00:01, 15.2MB/s]\n",
            " 48%|████▊     | 24.1M/50.2M [00:01<00:02, 8.74MB/s]\n",
            " 64%|██████▍   | 32.0M/50.2M [00:02<00:01, 13.3MB/s]\n",
            " 75%|███████▌  | 37.7M/50.2M [00:02<00:00, 14.6MB/s]\n",
            " 82%|████████▏ | 40.9M/50.2M [00:02<00:00, 13.1MB/s]\n",
            " 89%|████████▉ | 44.6M/50.2M [00:03<00:00, 9.74MB/s]\n",
            " 95%|█████████▌| 47.7M/50.2M [00:03<00:00, 9.72MB/s]\n",
            " 98%|█████████▊| 49.3M/50.2M [00:04<00:00, 8.50MB/s]\n",
            "100%|██████████| 50.2M/50.2M [00:04<00:00, 12.0MB/s]\n",
            "Downloading...\n",
            "From: https://drive.google.com/uc?id=1jXsI16FglcBCKID1c5Us-WD758D6mWMD\n",
            "To: c:\\Users\\julia\\Repos\\anyone_ai\\home_credit_default_risk\\application_train.csv\n",
            "\n",
            "  0%|          | 0.00/117M [00:00<?, ?B/s]\n",
            "  0%|          | 524k/117M [00:00<00:40, 2.86MB/s]\n",
            "  2%|▏         | 2.62M/117M [00:00<00:11, 10.4MB/s]\n",
            "  5%|▍         | 5.77M/117M [00:00<00:06, 18.3MB/s]\n",
            "  8%|▊         | 8.91M/117M [00:00<00:04, 22.5MB/s]\n",
            " 10%|█         | 12.1M/117M [00:00<00:04, 24.6MB/s]\n",
            " 13%|█▎        | 15.2M/117M [00:00<00:03, 26.1MB/s]\n",
            " 16%|█▌        | 18.4M/117M [00:00<00:03, 27.2MB/s]\n",
            " 18%|█▊        | 21.5M/117M [00:00<00:03, 27.6MB/s]\n",
            " 21%|██        | 24.6M/117M [00:01<00:05, 16.4MB/s]\n",
            " 23%|██▎       | 27.3M/117M [00:01<00:06, 12.9MB/s]\n",
            " 27%|██▋       | 31.5M/117M [00:01<00:06, 12.8MB/s]\n",
            " 29%|██▊       | 33.6M/117M [00:02<00:07, 10.5MB/s]\n",
            " 30%|███       | 35.7M/117M [00:02<00:08, 9.18MB/s]\n",
            " 36%|███▋      | 42.5M/117M [00:02<00:05, 12.9MB/s]\n",
            " 40%|████      | 47.2M/117M [00:03<00:05, 13.2MB/s]\n",
            " 44%|████▍     | 51.9M/117M [00:03<00:04, 13.5MB/s]\n",
            " 46%|████▌     | 53.5M/117M [00:03<00:05, 11.0MB/s]\n",
            " 47%|████▋     | 55.1M/117M [00:04<00:06, 9.25MB/s]\n",
            " 48%|████▊     | 56.6M/117M [00:04<00:07, 7.97MB/s]\n",
            " 51%|█████     | 59.2M/117M [00:04<00:07, 8.10MB/s]\n",
            " 55%|█████▌    | 64.5M/117M [00:05<00:05, 10.5MB/s]\n",
            " 56%|█████▌    | 65.5M/117M [00:05<00:06, 8.39MB/s]\n",
            " 57%|█████▋    | 66.6M/117M [00:05<00:07, 6.92MB/s]\n",
            " 61%|██████    | 71.3M/117M [00:06<00:04, 9.20MB/s]\n",
            " 66%|██████▌   | 77.1M/117M [00:06<00:03, 11.7MB/s]\n",
            " 70%|███████   | 82.3M/117M [00:06<00:02, 13.1MB/s]\n",
            " 74%|███████▍  | 87.0M/117M [00:07<00:02, 13.6MB/s]\n",
            " 76%|███████▌  | 88.6M/117M [00:07<00:02, 11.0MB/s]\n",
            " 77%|███████▋  | 90.2M/117M [00:07<00:02, 9.20MB/s]\n",
            " 81%|████████  | 94.4M/117M [00:08<00:02, 10.3MB/s]\n",
            " 86%|████████▌ | 101M/117M [00:08<00:01, 13.0MB/s] \n",
            " 91%|█████████▏| 107M/117M [00:08<00:00, 14.8MB/s]\n",
            "100%|██████████| 117M/117M [00:08<00:00, 13.3MB/s]\n",
            "Downloading...\n",
            "From: https://drive.google.com/uc?id=1i96_nh9tU0YeQtbLGusjZxVp3cBctDGp\n",
            "To: c:\\Users\\julia\\Repos\\anyone_ai\\home_credit_default_risk\\HomeCredit_columns_description.csv\n",
            "\n",
            "  0%|          | 0.00/24.6k [00:00<?, ?B/s]\n",
            "100%|██████████| 24.6k/24.6k [00:00<?, ?B/s]\n"
          ]
        }
      ],
      "source": [
        "!gdown 1CAhmDRZLsIX1rYmUHOI8n2oatGQKGeHt\n",
        "!gdown 1jXsI16FglcBCKID1c5Us-WD758D6mWMD\n",
        "!gdown 1i96_nh9tU0YeQtbLGusjZxVp3cBctDGp"
      ]
    },
    {
      "cell_type": "code",
      "execution_count": 43,
      "id": "400739f5",
      "metadata": {},
      "outputs": [],
      "source": [
        "import pandas as pd\n",
        "import seaborn as sns\n",
        "import matplotlib.pyplot as plt"
      ]
    },
    {
      "cell_type": "markdown",
      "id": "25a0a724-ceb1-40cb-b123-b8c907a9c06f",
      "metadata": {
        "id": "25a0a724-ceb1-40cb-b123-b8c907a9c06f"
      },
      "source": [
        "1.1. Load the training and test datasets using pandas `read_csv()` function. Assign them to `app_train` and `app_test` variables respectively."
      ]
    },
    {
      "cell_type": "code",
      "execution_count": 3,
      "id": "1d62ba4d-a3f6-443b-8c3e-65582a85d8a6",
      "metadata": {
        "id": "1d62ba4d-a3f6-443b-8c3e-65582a85d8a6"
      },
      "outputs": [],
      "source": [
        "### Complete in this cell: Loading the dataset\n",
        "app_train = pd.read_csv(\"application_train.csv\")\n",
        "app_test = pd.read_csv(\"application_test.csv\")"
      ]
    },
    {
      "cell_type": "markdown",
      "id": "MnA4l8-rWraC",
      "metadata": {
        "id": "MnA4l8-rWraC"
      },
      "source": [
        "**Don't change anything in this cell, just make it run correctly**"
      ]
    },
    {
      "cell_type": "code",
      "execution_count": 4,
      "id": "jrkLdOJnWoSS",
      "metadata": {
        "id": "jrkLdOJnWoSS"
      },
      "outputs": [
        {
          "name": "stdout",
          "output_type": "stream",
          "text": [
            "Success: app_train shape is correct!\n",
            "Success: app_train type is correct!\n",
            "Success: app_test shape is correct!\n",
            "Success: app_test type is correct!\n"
          ]
        }
      ],
      "source": [
        "if app_train.shape == (215257, 123):\n",
        "  print('Success: app_train shape is correct!')\n",
        "else:\n",
        "  raise ValueError('Train dataset shape is incorrect, please review your code')\n",
        "\n",
        "if isinstance(app_train, pd.DataFrame):\n",
        "  print('Success: app_train type is correct!')\n",
        "else:\n",
        "  raise ValueError('Train dataset type is incorrect, please review your code')\n",
        "\n",
        "if app_test.shape == (92254, 123):\n",
        "  print('Success: app_test shape is correct!')\n",
        "else:\n",
        "  raise ValueError('Test dataset shape is incorrect, please review your code')\n",
        "\n",
        "if isinstance(app_test, pd.DataFrame):\n",
        "  print('Success: app_test type is correct!')\n",
        "else:\n",
        "  raise ValueError('Test dataset type is incorrect, please review your code')"
      ]
    },
    {
      "cell_type": "markdown",
      "id": "7c10a608-5c38-44f4-8158-18225619e7ae",
      "metadata": {
        "id": "7c10a608-5c38-44f4-8158-18225619e7ae",
        "tags": []
      },
      "source": [
        "### Exploratory Data Analysis"
      ]
    },
    {
      "cell_type": "markdown",
      "id": "6bc490ab-a7b3-4590-a93c-70df44787682",
      "metadata": {
        "id": "6bc490ab-a7b3-4590-a93c-70df44787682"
      },
      "source": [
        "A lot of the analysis of the data can be found on public available Kaggle kernels or blog posts, but you need to make sure you understand the datasets properties before starting working on it, so we'll do exploratory data analysis for the main files"
      ]
    },
    {
      "cell_type": "markdown",
      "id": "2ea774d3-e12c-4c2b-846d-8c5c03e70928",
      "metadata": {
        "id": "2ea774d3-e12c-4c2b-846d-8c5c03e70928"
      },
      "source": [
        "**Dataset Basics**"
      ]
    },
    {
      "cell_type": "markdown",
      "id": "9f0b4817-5768-49d2-b5f2-907827541f16",
      "metadata": {
        "id": "9f0b4817-5768-49d2-b5f2-907827541f16"
      },
      "source": [
        "1.2. Print how many samples do we have in our train and test datasets."
      ]
    },
    {
      "cell_type": "code",
      "execution_count": 7,
      "id": "6a98fdd5-cbf2-4d20-9559-89c7cf5943cd",
      "metadata": {
        "id": "6a98fdd5-cbf2-4d20-9559-89c7cf5943cd"
      },
      "outputs": [
        {
          "data": {
            "text/plain": [
              "307511"
            ]
          },
          "execution_count": 7,
          "metadata": {},
          "output_type": "execute_result"
        }
      ],
      "source": [
        "### Complete in this cell: shape of the dataset\n",
        "len(app_train) + len(app_test)"
      ]
    },
    {
      "cell_type": "markdown",
      "id": "74e7a95b-8288-4ead-8c1e-f2cf68167d8e",
      "metadata": {
        "id": "74e7a95b-8288-4ead-8c1e-f2cf68167d8e"
      },
      "source": [
        "1.3. List all columns in the train dataset."
      ]
    },
    {
      "cell_type": "code",
      "execution_count": 14,
      "id": "d7af2f2e-93db-41e6-bb26-df1ad0be7786",
      "metadata": {
        "id": "d7af2f2e-93db-41e6-bb26-df1ad0be7786"
      },
      "outputs": [
        {
          "name": "stdout",
          "output_type": "stream",
          "text": [
            "['Unnamed: 0', 'SK_ID_CURR', 'TARGET', 'NAME_CONTRACT_TYPE', 'CODE_GENDER', 'FLAG_OWN_CAR', 'FLAG_OWN_REALTY', 'CNT_CHILDREN', 'AMT_INCOME_TOTAL', 'AMT_CREDIT', 'AMT_ANNUITY', 'AMT_GOODS_PRICE', 'NAME_TYPE_SUITE', 'NAME_INCOME_TYPE', 'NAME_EDUCATION_TYPE', 'NAME_FAMILY_STATUS', 'NAME_HOUSING_TYPE', 'REGION_POPULATION_RELATIVE', 'DAYS_BIRTH', 'DAYS_EMPLOYED', 'DAYS_REGISTRATION', 'DAYS_ID_PUBLISH', 'OWN_CAR_AGE', 'FLAG_MOBIL', 'FLAG_EMP_PHONE', 'FLAG_WORK_PHONE', 'FLAG_CONT_MOBILE', 'FLAG_PHONE', 'FLAG_EMAIL', 'OCCUPATION_TYPE', 'CNT_FAM_MEMBERS', 'REGION_RATING_CLIENT', 'REGION_RATING_CLIENT_W_CITY', 'WEEKDAY_APPR_PROCESS_START', 'HOUR_APPR_PROCESS_START', 'REG_REGION_NOT_LIVE_REGION', 'REG_REGION_NOT_WORK_REGION', 'LIVE_REGION_NOT_WORK_REGION', 'REG_CITY_NOT_LIVE_CITY', 'REG_CITY_NOT_WORK_CITY', 'LIVE_CITY_NOT_WORK_CITY', 'ORGANIZATION_TYPE', 'EXT_SOURCE_1', 'EXT_SOURCE_2', 'EXT_SOURCE_3', 'APARTMENTS_AVG', 'BASEMENTAREA_AVG', 'YEARS_BEGINEXPLUATATION_AVG', 'YEARS_BUILD_AVG', 'COMMONAREA_AVG', 'ELEVATORS_AVG', 'ENTRANCES_AVG', 'FLOORSMAX_AVG', 'FLOORSMIN_AVG', 'LANDAREA_AVG', 'LIVINGAPARTMENTS_AVG', 'LIVINGAREA_AVG', 'NONLIVINGAPARTMENTS_AVG', 'NONLIVINGAREA_AVG', 'APARTMENTS_MODE', 'BASEMENTAREA_MODE', 'YEARS_BEGINEXPLUATATION_MODE', 'YEARS_BUILD_MODE', 'COMMONAREA_MODE', 'ELEVATORS_MODE', 'ENTRANCES_MODE', 'FLOORSMAX_MODE', 'FLOORSMIN_MODE', 'LANDAREA_MODE', 'LIVINGAPARTMENTS_MODE', 'LIVINGAREA_MODE', 'NONLIVINGAPARTMENTS_MODE', 'NONLIVINGAREA_MODE', 'APARTMENTS_MEDI', 'BASEMENTAREA_MEDI', 'YEARS_BEGINEXPLUATATION_MEDI', 'YEARS_BUILD_MEDI', 'COMMONAREA_MEDI', 'ELEVATORS_MEDI', 'ENTRANCES_MEDI', 'FLOORSMAX_MEDI', 'FLOORSMIN_MEDI', 'LANDAREA_MEDI', 'LIVINGAPARTMENTS_MEDI', 'LIVINGAREA_MEDI', 'NONLIVINGAPARTMENTS_MEDI', 'NONLIVINGAREA_MEDI', 'FONDKAPREMONT_MODE', 'HOUSETYPE_MODE', 'TOTALAREA_MODE', 'WALLSMATERIAL_MODE', 'EMERGENCYSTATE_MODE', 'OBS_30_CNT_SOCIAL_CIRCLE', 'DEF_30_CNT_SOCIAL_CIRCLE', 'OBS_60_CNT_SOCIAL_CIRCLE', 'DEF_60_CNT_SOCIAL_CIRCLE', 'DAYS_LAST_PHONE_CHANGE', 'FLAG_DOCUMENT_2', 'FLAG_DOCUMENT_3', 'FLAG_DOCUMENT_4', 'FLAG_DOCUMENT_5', 'FLAG_DOCUMENT_6', 'FLAG_DOCUMENT_7', 'FLAG_DOCUMENT_8', 'FLAG_DOCUMENT_9', 'FLAG_DOCUMENT_10', 'FLAG_DOCUMENT_11', 'FLAG_DOCUMENT_12', 'FLAG_DOCUMENT_13', 'FLAG_DOCUMENT_14', 'FLAG_DOCUMENT_15', 'FLAG_DOCUMENT_16', 'FLAG_DOCUMENT_17', 'FLAG_DOCUMENT_18', 'FLAG_DOCUMENT_19', 'FLAG_DOCUMENT_20', 'FLAG_DOCUMENT_21', 'AMT_REQ_CREDIT_BUREAU_HOUR', 'AMT_REQ_CREDIT_BUREAU_DAY', 'AMT_REQ_CREDIT_BUREAU_WEEK', 'AMT_REQ_CREDIT_BUREAU_MON', 'AMT_REQ_CREDIT_BUREAU_QRT', 'AMT_REQ_CREDIT_BUREAU_YEAR']\n"
          ]
        }
      ],
      "source": [
        "### Complete in this cell: Show all columns in the training dataset \n",
        "print(list(app_train.columns))"
      ]
    },
    {
      "cell_type": "markdown",
      "id": "2dc4835f-90c3-4049-9ec2-44d102201104",
      "metadata": {
        "id": "2dc4835f-90c3-4049-9ec2-44d102201104"
      },
      "source": [
        "1.4. Show the first 5 records of the training dataset, transpose the dataframe to see each record as a column and features as rows, make sure all features are visualized. Take your time to review what kind of information you can gather from this data."
      ]
    },
    {
      "cell_type": "code",
      "execution_count": 22,
      "id": "ac9c85b3-52e0-4b80-9753-afb81f92bd0d",
      "metadata": {
        "id": "ac9c85b3-52e0-4b80-9753-afb81f92bd0d"
      },
      "outputs": [
        {
          "data": {
            "text/html": [
              "<div>\n",
              "<style scoped>\n",
              "    .dataframe tbody tr th:only-of-type {\n",
              "        vertical-align: middle;\n",
              "    }\n",
              "\n",
              "    .dataframe tbody tr th {\n",
              "        vertical-align: top;\n",
              "    }\n",
              "\n",
              "    .dataframe thead th {\n",
              "        text-align: right;\n",
              "    }\n",
              "</style>\n",
              "<table border=\"1\" class=\"dataframe\">\n",
              "  <thead>\n",
              "    <tr style=\"text-align: right;\">\n",
              "      <th></th>\n",
              "      <th>0</th>\n",
              "      <th>1</th>\n",
              "      <th>2</th>\n",
              "      <th>3</th>\n",
              "      <th>4</th>\n",
              "    </tr>\n",
              "  </thead>\n",
              "  <tbody>\n",
              "    <tr>\n",
              "      <th>Unnamed: 0</th>\n",
              "      <td>187399</td>\n",
              "      <td>84777</td>\n",
              "      <td>268140</td>\n",
              "      <td>270686</td>\n",
              "      <td>33785</td>\n",
              "    </tr>\n",
              "    <tr>\n",
              "      <th>SK_ID_CURR</th>\n",
              "      <td>317244</td>\n",
              "      <td>198357</td>\n",
              "      <td>410700</td>\n",
              "      <td>413785</td>\n",
              "      <td>139141</td>\n",
              "    </tr>\n",
              "    <tr>\n",
              "      <th>TARGET</th>\n",
              "      <td>0</td>\n",
              "      <td>0</td>\n",
              "      <td>0</td>\n",
              "      <td>0</td>\n",
              "      <td>0</td>\n",
              "    </tr>\n",
              "    <tr>\n",
              "      <th>NAME_CONTRACT_TYPE</th>\n",
              "      <td>Cash loans</td>\n",
              "      <td>Cash loans</td>\n",
              "      <td>Cash loans</td>\n",
              "      <td>Cash loans</td>\n",
              "      <td>Cash loans</td>\n",
              "    </tr>\n",
              "    <tr>\n",
              "      <th>CODE_GENDER</th>\n",
              "      <td>F</td>\n",
              "      <td>M</td>\n",
              "      <td>F</td>\n",
              "      <td>F</td>\n",
              "      <td>F</td>\n",
              "    </tr>\n",
              "    <tr>\n",
              "      <th>FLAG_OWN_CAR</th>\n",
              "      <td>Y</td>\n",
              "      <td>N</td>\n",
              "      <td>N</td>\n",
              "      <td>N</td>\n",
              "      <td>N</td>\n",
              "    </tr>\n",
              "    <tr>\n",
              "      <th>FLAG_OWN_REALTY</th>\n",
              "      <td>Y</td>\n",
              "      <td>Y</td>\n",
              "      <td>Y</td>\n",
              "      <td>Y</td>\n",
              "      <td>Y</td>\n",
              "    </tr>\n",
              "    <tr>\n",
              "      <th>CNT_CHILDREN</th>\n",
              "      <td>1</td>\n",
              "      <td>0</td>\n",
              "      <td>0</td>\n",
              "      <td>0</td>\n",
              "      <td>0</td>\n",
              "    </tr>\n",
              "    <tr>\n",
              "      <th>AMT_INCOME_TOTAL</th>\n",
              "      <td>202500.0</td>\n",
              "      <td>135000.0</td>\n",
              "      <td>135000.0</td>\n",
              "      <td>202500.0</td>\n",
              "      <td>54000.0</td>\n",
              "    </tr>\n",
              "    <tr>\n",
              "      <th>AMT_CREDIT</th>\n",
              "      <td>640080.0</td>\n",
              "      <td>647046.0</td>\n",
              "      <td>1078200.0</td>\n",
              "      <td>1223010.0</td>\n",
              "      <td>97038.0</td>\n",
              "    </tr>\n",
              "    <tr>\n",
              "      <th>AMT_ANNUITY</th>\n",
              "      <td>29970.0</td>\n",
              "      <td>19048.5</td>\n",
              "      <td>31653.0</td>\n",
              "      <td>51948.0</td>\n",
              "      <td>7029.0</td>\n",
              "    </tr>\n",
              "    <tr>\n",
              "      <th>AMT_GOODS_PRICE</th>\n",
              "      <td>450000.0</td>\n",
              "      <td>463500.0</td>\n",
              "      <td>900000.0</td>\n",
              "      <td>1125000.0</td>\n",
              "      <td>81000.0</td>\n",
              "    </tr>\n",
              "    <tr>\n",
              "      <th>NAME_TYPE_SUITE</th>\n",
              "      <td>Unaccompanied</td>\n",
              "      <td>Family</td>\n",
              "      <td>Family</td>\n",
              "      <td>Unaccompanied</td>\n",
              "      <td>Family</td>\n",
              "    </tr>\n",
              "    <tr>\n",
              "      <th>NAME_INCOME_TYPE</th>\n",
              "      <td>Commercial associate</td>\n",
              "      <td>Working</td>\n",
              "      <td>Working</td>\n",
              "      <td>Working</td>\n",
              "      <td>Working</td>\n",
              "    </tr>\n",
              "    <tr>\n",
              "      <th>NAME_EDUCATION_TYPE</th>\n",
              "      <td>Higher education</td>\n",
              "      <td>Secondary / secondary special</td>\n",
              "      <td>Secondary / secondary special</td>\n",
              "      <td>Higher education</td>\n",
              "      <td>Secondary / secondary special</td>\n",
              "    </tr>\n",
              "    <tr>\n",
              "      <th>NAME_FAMILY_STATUS</th>\n",
              "      <td>Married</td>\n",
              "      <td>Married</td>\n",
              "      <td>Single / not married</td>\n",
              "      <td>Married</td>\n",
              "      <td>Married</td>\n",
              "    </tr>\n",
              "    <tr>\n",
              "      <th>NAME_HOUSING_TYPE</th>\n",
              "      <td>House / apartment</td>\n",
              "      <td>House / apartment</td>\n",
              "      <td>House / apartment</td>\n",
              "      <td>House / apartment</td>\n",
              "      <td>House / apartment</td>\n",
              "    </tr>\n",
              "    <tr>\n",
              "      <th>REGION_POPULATION_RELATIVE</th>\n",
              "      <td>0.005313</td>\n",
              "      <td>0.01885</td>\n",
              "      <td>0.030755</td>\n",
              "      <td>0.035792</td>\n",
              "      <td>0.028663</td>\n",
              "    </tr>\n",
              "    <tr>\n",
              "      <th>DAYS_BIRTH</th>\n",
              "      <td>-8986</td>\n",
              "      <td>-13826</td>\n",
              "      <td>-22160</td>\n",
              "      <td>-16926</td>\n",
              "      <td>-16333</td>\n",
              "    </tr>\n",
              "    <tr>\n",
              "      <th>DAYS_EMPLOYED</th>\n",
              "      <td>-377</td>\n",
              "      <td>-7128</td>\n",
              "      <td>-4968</td>\n",
              "      <td>-2275</td>\n",
              "      <td>-8925</td>\n",
              "    </tr>\n",
              "    <tr>\n",
              "      <th>DAYS_REGISTRATION</th>\n",
              "      <td>-8696.0</td>\n",
              "      <td>-4097.0</td>\n",
              "      <td>-10584.0</td>\n",
              "      <td>-2.0</td>\n",
              "      <td>-6248.0</td>\n",
              "    </tr>\n",
              "    <tr>\n",
              "      <th>DAYS_ID_PUBLISH</th>\n",
              "      <td>-1399</td>\n",
              "      <td>-4321</td>\n",
              "      <td>-4155</td>\n",
              "      <td>-381</td>\n",
              "      <td>-4143</td>\n",
              "    </tr>\n",
              "    <tr>\n",
              "      <th>OWN_CAR_AGE</th>\n",
              "      <td>15.0</td>\n",
              "      <td>NaN</td>\n",
              "      <td>NaN</td>\n",
              "      <td>NaN</td>\n",
              "      <td>NaN</td>\n",
              "    </tr>\n",
              "    <tr>\n",
              "      <th>FLAG_MOBIL</th>\n",
              "      <td>1</td>\n",
              "      <td>1</td>\n",
              "      <td>1</td>\n",
              "      <td>1</td>\n",
              "      <td>1</td>\n",
              "    </tr>\n",
              "    <tr>\n",
              "      <th>FLAG_EMP_PHONE</th>\n",
              "      <td>1</td>\n",
              "      <td>1</td>\n",
              "      <td>1</td>\n",
              "      <td>1</td>\n",
              "      <td>1</td>\n",
              "    </tr>\n",
              "    <tr>\n",
              "      <th>FLAG_WORK_PHONE</th>\n",
              "      <td>0</td>\n",
              "      <td>0</td>\n",
              "      <td>0</td>\n",
              "      <td>0</td>\n",
              "      <td>0</td>\n",
              "    </tr>\n",
              "    <tr>\n",
              "      <th>FLAG_CONT_MOBILE</th>\n",
              "      <td>1</td>\n",
              "      <td>1</td>\n",
              "      <td>1</td>\n",
              "      <td>1</td>\n",
              "      <td>1</td>\n",
              "    </tr>\n",
              "    <tr>\n",
              "      <th>FLAG_PHONE</th>\n",
              "      <td>0</td>\n",
              "      <td>0</td>\n",
              "      <td>1</td>\n",
              "      <td>1</td>\n",
              "      <td>0</td>\n",
              "    </tr>\n",
              "    <tr>\n",
              "      <th>FLAG_EMAIL</th>\n",
              "      <td>0</td>\n",
              "      <td>0</td>\n",
              "      <td>0</td>\n",
              "      <td>0</td>\n",
              "      <td>0</td>\n",
              "    </tr>\n",
              "    <tr>\n",
              "      <th>OCCUPATION_TYPE</th>\n",
              "      <td>Core staff</td>\n",
              "      <td>Laborers</td>\n",
              "      <td>High skill tech staff</td>\n",
              "      <td>Accountants</td>\n",
              "      <td>Laborers</td>\n",
              "    </tr>\n",
              "    <tr>\n",
              "      <th>CNT_FAM_MEMBERS</th>\n",
              "      <td>3.0</td>\n",
              "      <td>2.0</td>\n",
              "      <td>1.0</td>\n",
              "      <td>2.0</td>\n",
              "      <td>2.0</td>\n",
              "    </tr>\n",
              "    <tr>\n",
              "      <th>REGION_RATING_CLIENT</th>\n",
              "      <td>2</td>\n",
              "      <td>2</td>\n",
              "      <td>2</td>\n",
              "      <td>2</td>\n",
              "      <td>2</td>\n",
              "    </tr>\n",
              "    <tr>\n",
              "      <th>REGION_RATING_CLIENT_W_CITY</th>\n",
              "      <td>2</td>\n",
              "      <td>2</td>\n",
              "      <td>2</td>\n",
              "      <td>2</td>\n",
              "      <td>2</td>\n",
              "    </tr>\n",
              "    <tr>\n",
              "      <th>WEEKDAY_APPR_PROCESS_START</th>\n",
              "      <td>WEDNESDAY</td>\n",
              "      <td>SATURDAY</td>\n",
              "      <td>FRIDAY</td>\n",
              "      <td>WEDNESDAY</td>\n",
              "      <td>THURSDAY</td>\n",
              "    </tr>\n",
              "    <tr>\n",
              "      <th>HOUR_APPR_PROCESS_START</th>\n",
              "      <td>13</td>\n",
              "      <td>10</td>\n",
              "      <td>12</td>\n",
              "      <td>12</td>\n",
              "      <td>16</td>\n",
              "    </tr>\n",
              "    <tr>\n",
              "      <th>REG_REGION_NOT_LIVE_REGION</th>\n",
              "      <td>0</td>\n",
              "      <td>0</td>\n",
              "      <td>0</td>\n",
              "      <td>0</td>\n",
              "      <td>0</td>\n",
              "    </tr>\n",
              "    <tr>\n",
              "      <th>REG_REGION_NOT_WORK_REGION</th>\n",
              "      <td>0</td>\n",
              "      <td>0</td>\n",
              "      <td>0</td>\n",
              "      <td>0</td>\n",
              "      <td>0</td>\n",
              "    </tr>\n",
              "    <tr>\n",
              "      <th>LIVE_REGION_NOT_WORK_REGION</th>\n",
              "      <td>0</td>\n",
              "      <td>0</td>\n",
              "      <td>0</td>\n",
              "      <td>0</td>\n",
              "      <td>0</td>\n",
              "    </tr>\n",
              "    <tr>\n",
              "      <th>REG_CITY_NOT_LIVE_CITY</th>\n",
              "      <td>0</td>\n",
              "      <td>0</td>\n",
              "      <td>0</td>\n",
              "      <td>0</td>\n",
              "      <td>0</td>\n",
              "    </tr>\n",
              "    <tr>\n",
              "      <th>REG_CITY_NOT_WORK_CITY</th>\n",
              "      <td>0</td>\n",
              "      <td>0</td>\n",
              "      <td>0</td>\n",
              "      <td>0</td>\n",
              "      <td>0</td>\n",
              "    </tr>\n",
              "  </tbody>\n",
              "</table>\n",
              "</div>"
            ],
            "text/plain": [
              "                                                0  \\\n",
              "Unnamed: 0                                 187399   \n",
              "SK_ID_CURR                                 317244   \n",
              "TARGET                                          0   \n",
              "NAME_CONTRACT_TYPE                     Cash loans   \n",
              "CODE_GENDER                                     F   \n",
              "FLAG_OWN_CAR                                    Y   \n",
              "FLAG_OWN_REALTY                                 Y   \n",
              "CNT_CHILDREN                                    1   \n",
              "AMT_INCOME_TOTAL                         202500.0   \n",
              "AMT_CREDIT                               640080.0   \n",
              "AMT_ANNUITY                               29970.0   \n",
              "AMT_GOODS_PRICE                          450000.0   \n",
              "NAME_TYPE_SUITE                     Unaccompanied   \n",
              "NAME_INCOME_TYPE             Commercial associate   \n",
              "NAME_EDUCATION_TYPE              Higher education   \n",
              "NAME_FAMILY_STATUS                        Married   \n",
              "NAME_HOUSING_TYPE               House / apartment   \n",
              "REGION_POPULATION_RELATIVE               0.005313   \n",
              "DAYS_BIRTH                                  -8986   \n",
              "DAYS_EMPLOYED                                -377   \n",
              "DAYS_REGISTRATION                         -8696.0   \n",
              "DAYS_ID_PUBLISH                             -1399   \n",
              "OWN_CAR_AGE                                  15.0   \n",
              "FLAG_MOBIL                                      1   \n",
              "FLAG_EMP_PHONE                                  1   \n",
              "FLAG_WORK_PHONE                                 0   \n",
              "FLAG_CONT_MOBILE                                1   \n",
              "FLAG_PHONE                                      0   \n",
              "FLAG_EMAIL                                      0   \n",
              "OCCUPATION_TYPE                        Core staff   \n",
              "CNT_FAM_MEMBERS                               3.0   \n",
              "REGION_RATING_CLIENT                            2   \n",
              "REGION_RATING_CLIENT_W_CITY                     2   \n",
              "WEEKDAY_APPR_PROCESS_START              WEDNESDAY   \n",
              "HOUR_APPR_PROCESS_START                        13   \n",
              "REG_REGION_NOT_LIVE_REGION                      0   \n",
              "REG_REGION_NOT_WORK_REGION                      0   \n",
              "LIVE_REGION_NOT_WORK_REGION                     0   \n",
              "REG_CITY_NOT_LIVE_CITY                          0   \n",
              "REG_CITY_NOT_WORK_CITY                          0   \n",
              "\n",
              "                                                         1  \\\n",
              "Unnamed: 0                                           84777   \n",
              "SK_ID_CURR                                          198357   \n",
              "TARGET                                                   0   \n",
              "NAME_CONTRACT_TYPE                              Cash loans   \n",
              "CODE_GENDER                                              M   \n",
              "FLAG_OWN_CAR                                             N   \n",
              "FLAG_OWN_REALTY                                          Y   \n",
              "CNT_CHILDREN                                             0   \n",
              "AMT_INCOME_TOTAL                                  135000.0   \n",
              "AMT_CREDIT                                        647046.0   \n",
              "AMT_ANNUITY                                        19048.5   \n",
              "AMT_GOODS_PRICE                                   463500.0   \n",
              "NAME_TYPE_SUITE                                     Family   \n",
              "NAME_INCOME_TYPE                                   Working   \n",
              "NAME_EDUCATION_TYPE          Secondary / secondary special   \n",
              "NAME_FAMILY_STATUS                                 Married   \n",
              "NAME_HOUSING_TYPE                        House / apartment   \n",
              "REGION_POPULATION_RELATIVE                         0.01885   \n",
              "DAYS_BIRTH                                          -13826   \n",
              "DAYS_EMPLOYED                                        -7128   \n",
              "DAYS_REGISTRATION                                  -4097.0   \n",
              "DAYS_ID_PUBLISH                                      -4321   \n",
              "OWN_CAR_AGE                                            NaN   \n",
              "FLAG_MOBIL                                               1   \n",
              "FLAG_EMP_PHONE                                           1   \n",
              "FLAG_WORK_PHONE                                          0   \n",
              "FLAG_CONT_MOBILE                                         1   \n",
              "FLAG_PHONE                                               0   \n",
              "FLAG_EMAIL                                               0   \n",
              "OCCUPATION_TYPE                                   Laborers   \n",
              "CNT_FAM_MEMBERS                                        2.0   \n",
              "REGION_RATING_CLIENT                                     2   \n",
              "REGION_RATING_CLIENT_W_CITY                              2   \n",
              "WEEKDAY_APPR_PROCESS_START                        SATURDAY   \n",
              "HOUR_APPR_PROCESS_START                                 10   \n",
              "REG_REGION_NOT_LIVE_REGION                               0   \n",
              "REG_REGION_NOT_WORK_REGION                               0   \n",
              "LIVE_REGION_NOT_WORK_REGION                              0   \n",
              "REG_CITY_NOT_LIVE_CITY                                   0   \n",
              "REG_CITY_NOT_WORK_CITY                                   0   \n",
              "\n",
              "                                                         2                  3  \\\n",
              "Unnamed: 0                                          268140             270686   \n",
              "SK_ID_CURR                                          410700             413785   \n",
              "TARGET                                                   0                  0   \n",
              "NAME_CONTRACT_TYPE                              Cash loans         Cash loans   \n",
              "CODE_GENDER                                              F                  F   \n",
              "FLAG_OWN_CAR                                             N                  N   \n",
              "FLAG_OWN_REALTY                                          Y                  Y   \n",
              "CNT_CHILDREN                                             0                  0   \n",
              "AMT_INCOME_TOTAL                                  135000.0           202500.0   \n",
              "AMT_CREDIT                                       1078200.0          1223010.0   \n",
              "AMT_ANNUITY                                        31653.0            51948.0   \n",
              "AMT_GOODS_PRICE                                   900000.0          1125000.0   \n",
              "NAME_TYPE_SUITE                                     Family      Unaccompanied   \n",
              "NAME_INCOME_TYPE                                   Working            Working   \n",
              "NAME_EDUCATION_TYPE          Secondary / secondary special   Higher education   \n",
              "NAME_FAMILY_STATUS                    Single / not married            Married   \n",
              "NAME_HOUSING_TYPE                        House / apartment  House / apartment   \n",
              "REGION_POPULATION_RELATIVE                        0.030755           0.035792   \n",
              "DAYS_BIRTH                                          -22160             -16926   \n",
              "DAYS_EMPLOYED                                        -4968              -2275   \n",
              "DAYS_REGISTRATION                                 -10584.0               -2.0   \n",
              "DAYS_ID_PUBLISH                                      -4155               -381   \n",
              "OWN_CAR_AGE                                            NaN                NaN   \n",
              "FLAG_MOBIL                                               1                  1   \n",
              "FLAG_EMP_PHONE                                           1                  1   \n",
              "FLAG_WORK_PHONE                                          0                  0   \n",
              "FLAG_CONT_MOBILE                                         1                  1   \n",
              "FLAG_PHONE                                               1                  1   \n",
              "FLAG_EMAIL                                               0                  0   \n",
              "OCCUPATION_TYPE                      High skill tech staff        Accountants   \n",
              "CNT_FAM_MEMBERS                                        1.0                2.0   \n",
              "REGION_RATING_CLIENT                                     2                  2   \n",
              "REGION_RATING_CLIENT_W_CITY                              2                  2   \n",
              "WEEKDAY_APPR_PROCESS_START                          FRIDAY          WEDNESDAY   \n",
              "HOUR_APPR_PROCESS_START                                 12                 12   \n",
              "REG_REGION_NOT_LIVE_REGION                               0                  0   \n",
              "REG_REGION_NOT_WORK_REGION                               0                  0   \n",
              "LIVE_REGION_NOT_WORK_REGION                              0                  0   \n",
              "REG_CITY_NOT_LIVE_CITY                                   0                  0   \n",
              "REG_CITY_NOT_WORK_CITY                                   0                  0   \n",
              "\n",
              "                                                         4  \n",
              "Unnamed: 0                                           33785  \n",
              "SK_ID_CURR                                          139141  \n",
              "TARGET                                                   0  \n",
              "NAME_CONTRACT_TYPE                              Cash loans  \n",
              "CODE_GENDER                                              F  \n",
              "FLAG_OWN_CAR                                             N  \n",
              "FLAG_OWN_REALTY                                          Y  \n",
              "CNT_CHILDREN                                             0  \n",
              "AMT_INCOME_TOTAL                                   54000.0  \n",
              "AMT_CREDIT                                         97038.0  \n",
              "AMT_ANNUITY                                         7029.0  \n",
              "AMT_GOODS_PRICE                                    81000.0  \n",
              "NAME_TYPE_SUITE                                     Family  \n",
              "NAME_INCOME_TYPE                                   Working  \n",
              "NAME_EDUCATION_TYPE          Secondary / secondary special  \n",
              "NAME_FAMILY_STATUS                                 Married  \n",
              "NAME_HOUSING_TYPE                        House / apartment  \n",
              "REGION_POPULATION_RELATIVE                        0.028663  \n",
              "DAYS_BIRTH                                          -16333  \n",
              "DAYS_EMPLOYED                                        -8925  \n",
              "DAYS_REGISTRATION                                  -6248.0  \n",
              "DAYS_ID_PUBLISH                                      -4143  \n",
              "OWN_CAR_AGE                                            NaN  \n",
              "FLAG_MOBIL                                               1  \n",
              "FLAG_EMP_PHONE                                           1  \n",
              "FLAG_WORK_PHONE                                          0  \n",
              "FLAG_CONT_MOBILE                                         1  \n",
              "FLAG_PHONE                                               0  \n",
              "FLAG_EMAIL                                               0  \n",
              "OCCUPATION_TYPE                                   Laborers  \n",
              "CNT_FAM_MEMBERS                                        2.0  \n",
              "REGION_RATING_CLIENT                                     2  \n",
              "REGION_RATING_CLIENT_W_CITY                              2  \n",
              "WEEKDAY_APPR_PROCESS_START                        THURSDAY  \n",
              "HOUR_APPR_PROCESS_START                                 16  \n",
              "REG_REGION_NOT_LIVE_REGION                               0  \n",
              "REG_REGION_NOT_WORK_REGION                               0  \n",
              "LIVE_REGION_NOT_WORK_REGION                              0  \n",
              "REG_CITY_NOT_LIVE_CITY                                   0  \n",
              "REG_CITY_NOT_WORK_CITY                                   0  "
            ]
          },
          "execution_count": 22,
          "metadata": {},
          "output_type": "execute_result"
        }
      ],
      "source": [
        "### Complete in this cell: show first 5 records in a transposed table\n",
        "app_train.head().T.head(40)"
      ]
    },
    {
      "cell_type": "markdown",
      "id": "59da8f46-e503-4b67-8e73-ac61c394824c",
      "metadata": {
        "id": "59da8f46-e503-4b67-8e73-ac61c394824c"
      },
      "source": [
        "1.5. Show the distribution of the target variable values: print the total value count and the percentage of each value, plot this relationship."
      ]
    },
    {
      "cell_type": "code",
      "execution_count": 44,
      "id": "8855d370-c825-415b-9dd0-9dbdd576fada",
      "metadata": {
        "id": "8855d370-c825-415b-9dd0-9dbdd576fada"
      },
      "outputs": [
        {
          "name": "stdout",
          "output_type": "stream",
          "text": [
            "Total values:\n",
            "0    197882\n",
            "1     17375\n",
            "Name: TARGET, dtype: int64\n",
            "\n",
            "Percentage of each value:\n",
            "0    0.919283\n",
            "1    0.080717\n",
            "Name: TARGET, dtype: float64\n",
            "\n"
          ]
        },
        {
          "data": {
            "image/png": "[encoded data removed]",
            "text/plain": [
              "<Figure size 640x480 with 1 Axes>"
            ]
          },
          "metadata": {},
          "output_type": "display_data"
        }
      ],
      "source": [
        "### Complete in this cell: show distribution of target variable\n",
        "print(f\"Total values:\\n{app_train['TARGET'].value_counts()}\\n\")\n",
        "print(f\"Percentage of each value:\\n{app_train['TARGET'].value_counts(normalize=True)}\\n\")\n",
        "sns.countplot(app_train, x=\"TARGET\")\n",
        "plt.show()"
      ]
    },
    {
      "cell_type": "markdown",
      "id": "cc7b5a63-da31-4a61-9e91-9708dc7633a7",
      "metadata": {
        "id": "cc7b5a63-da31-4a61-9e91-9708dc7633a7"
      },
      "source": [
        "1.6. Show the number of columns of each data type.\n",
        "\n",
        "Just for giving you an idea, the output should look like this (not exactly the same numbers):\n",
        "\n",
        "```python\n",
        "float64    45\n",
        "int64      32\n",
        "object     10\n",
        "```"
      ]
    },
    {
      "cell_type": "code",
      "execution_count": 50,
      "id": "b74878dd-cc48-4e69-bc35-e90457d54b3a",
      "metadata": {
        "id": "b74878dd-cc48-4e69-bc35-e90457d54b3a"
      },
      "outputs": [
        {
          "data": {
            "text/plain": [
              "float64    65\n",
              "int64      42\n",
              "object     16\n",
              "dtype: int64"
            ]
          },
          "execution_count": 50,
          "metadata": {},
          "output_type": "execute_result"
        }
      ],
      "source": [
        "### Complete in this cell: show number of columns per data type\n",
        "app_train.dtypes.value_counts()"
      ]
    },
    {
      "cell_type": "markdown",
      "id": "c0a8799e-d32a-4239-a85d-6ff29ab4682f",
      "metadata": {
        "id": "c0a8799e-d32a-4239-a85d-6ff29ab4682f"
      },
      "source": [
        "1.7. For categorical variables, show the number of distinct values in each column (number of labels).\n",
        "\n",
        "Just for giving you an idea, the output should look like this (not exactly the same numbers):\n",
        "\n",
        "```python\n",
        "NAME_CONTRACT_TYPE             5\n",
        "CODE_GENDER                    2\n",
        "FLAG_OWN_CAR                   1\n",
        "FLAG_OWN_REALTY                1\n",
        "...\n",
        "```"
      ]
    },
    {
      "cell_type": "code",
      "execution_count": 119,
      "id": "8b294976-dc0d-44bd-9bf6-29ba1f6a2e2b",
      "metadata": {
        "id": "8b294976-dc0d-44bd-9bf6-29ba1f6a2e2b"
      },
      "outputs": [
        {
          "data": {
            "text/plain": [
              "NAME_CONTRACT_TYPE             2\n",
              "CODE_GENDER                    3\n",
              "FLAG_OWN_CAR                   2\n",
              "FLAG_OWN_REALTY                2\n",
              "NAME_TYPE_SUITE                7\n",
              "NAME_INCOME_TYPE               8\n",
              "NAME_EDUCATION_TYPE            5\n",
              "NAME_FAMILY_STATUS             6\n",
              "NAME_HOUSING_TYPE              6\n",
              "OCCUPATION_TYPE               18\n",
              "WEEKDAY_APPR_PROCESS_START     7\n",
              "ORGANIZATION_TYPE             58\n",
              "FONDKAPREMONT_MODE             4\n",
              "HOUSETYPE_MODE                 3\n",
              "WALLSMATERIAL_MODE             7\n",
              "EMERGENCYSTATE_MODE            2\n",
              "dtype: int64"
            ]
          },
          "execution_count": 119,
          "metadata": {},
          "output_type": "execute_result"
        }
      ],
      "source": [
        "### Complete in this cell: show number of unique values per categorical column\n",
        "app_train.select_dtypes(include=\"object\").nunique()"
      ]
    },
    {
      "cell_type": "markdown",
      "id": "967d1938-e27d-4fbd-9bdc-f26364f5fdfd",
      "metadata": {
        "id": "967d1938-e27d-4fbd-9bdc-f26364f5fdfd"
      },
      "source": [
        "1.8. Analyzing missing data: show the percentage of missing data for each column ordered by percentage descending (show only the 20 columns with higher missing pct)\n",
        "\n",
        "Just for giving you an idea, the output should look like this (not exactly the same numbers and columns names):\n",
        "\n",
        "```python\n",
        "                   Total   Percent\n",
        "COMMONAREA_AVG    121000      85.2\n",
        "COMMONAREA_MODE   121000      76.6\n",
        "COMMONAREA_MEDI   121000      62.9\n",
        "...\n",
        "```"
      ]
    },
    {
      "cell_type": "code",
      "execution_count": 117,
      "id": "0b65aa7e-d8a2-44b0-9803-ca5277471470",
      "metadata": {
        "id": "0b65aa7e-d8a2-44b0-9803-ca5277471470"
      },
      "outputs": [
        {
          "data": {
            "text/html": [
              "<div>\n",
              "<style scoped>\n",
              "    .dataframe tbody tr th:only-of-type {\n",
              "        vertical-align: middle;\n",
              "    }\n",
              "\n",
              "    .dataframe tbody tr th {\n",
              "        vertical-align: top;\n",
              "    }\n",
              "\n",
              "    .dataframe thead th {\n",
              "        text-align: right;\n",
              "    }\n",
              "</style>\n",
              "<table border=\"1\" class=\"dataframe\">\n",
              "  <thead>\n",
              "    <tr style=\"text-align: right;\">\n",
              "      <th></th>\n",
              "      <th>Total</th>\n",
              "      <th>Percent</th>\n",
              "    </tr>\n",
              "  </thead>\n",
              "  <tbody>\n",
              "    <tr>\n",
              "      <th>COMMONAREA_AVG</th>\n",
              "      <td>150393</td>\n",
              "      <td>69.9</td>\n",
              "    </tr>\n",
              "    <tr>\n",
              "      <th>COMMONAREA_MODE</th>\n",
              "      <td>150393</td>\n",
              "      <td>69.9</td>\n",
              "    </tr>\n",
              "    <tr>\n",
              "      <th>COMMONAREA_MEDI</th>\n",
              "      <td>150393</td>\n",
              "      <td>69.9</td>\n",
              "    </tr>\n",
              "    <tr>\n",
              "      <th>NONLIVINGAPARTMENTS_MODE</th>\n",
              "      <td>149483</td>\n",
              "      <td>69.4</td>\n",
              "    </tr>\n",
              "    <tr>\n",
              "      <th>NONLIVINGAPARTMENTS_AVG</th>\n",
              "      <td>149483</td>\n",
              "      <td>69.4</td>\n",
              "    </tr>\n",
              "    <tr>\n",
              "      <th>NONLIVINGAPARTMENTS_MEDI</th>\n",
              "      <td>149483</td>\n",
              "      <td>69.4</td>\n",
              "    </tr>\n",
              "    <tr>\n",
              "      <th>FONDKAPREMONT_MODE</th>\n",
              "      <td>147217</td>\n",
              "      <td>68.4</td>\n",
              "    </tr>\n",
              "    <tr>\n",
              "      <th>LIVINGAPARTMENTS_MODE</th>\n",
              "      <td>147144</td>\n",
              "      <td>68.4</td>\n",
              "    </tr>\n",
              "    <tr>\n",
              "      <th>LIVINGAPARTMENTS_MEDI</th>\n",
              "      <td>147144</td>\n",
              "      <td>68.4</td>\n",
              "    </tr>\n",
              "    <tr>\n",
              "      <th>LIVINGAPARTMENTS_AVG</th>\n",
              "      <td>147144</td>\n",
              "      <td>68.4</td>\n",
              "    </tr>\n",
              "    <tr>\n",
              "      <th>FLOORSMIN_MODE</th>\n",
              "      <td>146070</td>\n",
              "      <td>67.9</td>\n",
              "    </tr>\n",
              "    <tr>\n",
              "      <th>FLOORSMIN_AVG</th>\n",
              "      <td>146070</td>\n",
              "      <td>67.9</td>\n",
              "    </tr>\n",
              "    <tr>\n",
              "      <th>FLOORSMIN_MEDI</th>\n",
              "      <td>146070</td>\n",
              "      <td>67.9</td>\n",
              "    </tr>\n",
              "    <tr>\n",
              "      <th>YEARS_BUILD_AVG</th>\n",
              "      <td>143149</td>\n",
              "      <td>66.5</td>\n",
              "    </tr>\n",
              "    <tr>\n",
              "      <th>YEARS_BUILD_MODE</th>\n",
              "      <td>143149</td>\n",
              "      <td>66.5</td>\n",
              "    </tr>\n",
              "    <tr>\n",
              "      <th>YEARS_BUILD_MEDI</th>\n",
              "      <td>143149</td>\n",
              "      <td>66.5</td>\n",
              "    </tr>\n",
              "    <tr>\n",
              "      <th>OWN_CAR_AGE</th>\n",
              "      <td>142017</td>\n",
              "      <td>66.0</td>\n",
              "    </tr>\n",
              "    <tr>\n",
              "      <th>LANDAREA_MEDI</th>\n",
              "      <td>127983</td>\n",
              "      <td>59.5</td>\n",
              "    </tr>\n",
              "    <tr>\n",
              "      <th>LANDAREA_MODE</th>\n",
              "      <td>127983</td>\n",
              "      <td>59.5</td>\n",
              "    </tr>\n",
              "    <tr>\n",
              "      <th>LANDAREA_AVG</th>\n",
              "      <td>127983</td>\n",
              "      <td>59.5</td>\n",
              "    </tr>\n",
              "  </tbody>\n",
              "</table>\n",
              "</div>"
            ],
            "text/plain": [
              "                           Total  Percent\n",
              "COMMONAREA_AVG            150393     69.9\n",
              "COMMONAREA_MODE           150393     69.9\n",
              "COMMONAREA_MEDI           150393     69.9\n",
              "NONLIVINGAPARTMENTS_MODE  149483     69.4\n",
              "NONLIVINGAPARTMENTS_AVG   149483     69.4\n",
              "NONLIVINGAPARTMENTS_MEDI  149483     69.4\n",
              "FONDKAPREMONT_MODE        147217     68.4\n",
              "LIVINGAPARTMENTS_MODE     147144     68.4\n",
              "LIVINGAPARTMENTS_MEDI     147144     68.4\n",
              "LIVINGAPARTMENTS_AVG      147144     68.4\n",
              "FLOORSMIN_MODE            146070     67.9\n",
              "FLOORSMIN_AVG             146070     67.9\n",
              "FLOORSMIN_MEDI            146070     67.9\n",
              "YEARS_BUILD_AVG           143149     66.5\n",
              "YEARS_BUILD_MODE          143149     66.5\n",
              "YEARS_BUILD_MEDI          143149     66.5\n",
              "OWN_CAR_AGE               142017     66.0\n",
              "LANDAREA_MEDI             127983     59.5\n",
              "LANDAREA_MODE             127983     59.5\n",
              "LANDAREA_AVG              127983     59.5"
            ]
          },
          "execution_count": 117,
          "metadata": {},
          "output_type": "execute_result"
        }
      ],
      "source": [
        "### Complete in this cell: checking missing data\n",
        "\n",
        "(pd\n",
        " # Create dataframe with total and percentage of null values as columns\n",
        " .concat(\n",
        "   [app_train.isnull().sum(),\n",
        "    # Get the percentage of null values and round it\n",
        "    round(app_train.isnull().sum() / len(app_train) * 100,1)\n",
        "    ],\n",
        "   axis=1\n",
        "   )\n",
        " # Change the default column names\n",
        " .rename(columns={0: \"Total\", 1: \"Percent\"})\n",
        " .sort_values(by=\"Total\",ascending=False)\n",
        " .head(20)\n",
        " )"
      ]
    },
    {
      "cell_type": "markdown",
      "id": "783c5bb6-6b6d-4e34-bbe2-3a5dc319a4f0",
      "metadata": {
        "id": "783c5bb6-6b6d-4e34-bbe2-3a5dc319a4f0"
      },
      "source": [
        "**Analyzing distribution of variables**"
      ]
    },
    {
      "cell_type": "markdown",
      "id": "9c79d319-bde8-47a4-890d-6694edf221e2",
      "metadata": {
        "id": "9c79d319-bde8-47a4-890d-6694edf221e2"
      },
      "source": [
        "1.9. Show the distribution of credit amounts."
      ]
    },
    {
      "cell_type": "code",
      "execution_count": null,
      "id": "bc953042-9744-498e-a435-fa660e76c70d",
      "metadata": {
        "id": "bc953042-9744-498e-a435-fa660e76c70d"
      },
      "outputs": [],
      "source": [
        "### Complete in this cell: distribution of credit amounts\n"
      ]
    },
    {
      "cell_type": "markdown",
      "id": "f4e7bf4a-25c7-47c0-aea8-ed916d8827f6",
      "metadata": {
        "id": "f4e7bf4a-25c7-47c0-aea8-ed916d8827f6"
      },
      "source": [
        "1.10. Plot the education level of the credit applicants, show the percentages of each category. Also print the total counts for each category."
      ]
    },
    {
      "cell_type": "code",
      "execution_count": null,
      "id": "406d7d06-b21a-4938-8e3d-11798def489b",
      "metadata": {
        "id": "406d7d06-b21a-4938-8e3d-11798def489b"
      },
      "outputs": [],
      "source": [
        "### Complete in this cell: level of education plot\n"
      ]
    },
    {
      "cell_type": "markdown",
      "id": "78e17d30-acce-4b7f-bacc-af488cda3e7d",
      "metadata": {
        "id": "78e17d30-acce-4b7f-bacc-af488cda3e7d"
      },
      "source": [
        "1.11. Plot the distribution of ocupation of the loan applicants"
      ]
    },
    {
      "cell_type": "code",
      "execution_count": null,
      "id": "ec101d97-c77b-4e5d-b69f-7c2f8f652d8f",
      "metadata": {
        "id": "ec101d97-c77b-4e5d-b69f-7c2f8f652d8f"
      },
      "outputs": [],
      "source": [
        "### Complete in this cell: ocupation of applicants\n"
      ]
    },
    {
      "cell_type": "markdown",
      "id": "824b1bc0-4dad-4ce8-b574-cbae5984a589",
      "metadata": {
        "id": "824b1bc0-4dad-4ce8-b574-cbae5984a589"
      },
      "source": [
        "1.12. Plot the family status of the applicants"
      ]
    },
    {
      "cell_type": "code",
      "execution_count": null,
      "id": "95463328-4392-435e-a203-95e28998930b",
      "metadata": {
        "id": "95463328-4392-435e-a203-95e28998930b"
      },
      "outputs": [],
      "source": [
        "### Complete in this cell: family status\n"
      ]
    },
    {
      "cell_type": "markdown",
      "id": "efa77db6-a50a-454e-b1b2-83abe3c8baae",
      "metadata": {
        "id": "efa77db6-a50a-454e-b1b2-83abe3c8baae"
      },
      "source": [
        "1.13. Plot the income type of applicants grouped by the target variable"
      ]
    },
    {
      "cell_type": "code",
      "execution_count": null,
      "id": "409f8fe1-9e19-4b3b-8723-a8e1d65312f5",
      "metadata": {
        "id": "409f8fe1-9e19-4b3b-8723-a8e1d65312f5"
      },
      "outputs": [],
      "source": [
        "### Complete in this cell: income type \n"
      ]
    },
    {
      "cell_type": "code",
      "execution_count": null,
      "id": "f22c3267-56c8-45fc-9184-b822cd026571",
      "metadata": {
        "id": "f22c3267-56c8-45fc-9184-b822cd026571"
      },
      "outputs": [],
      "source": [
        "### Complete in this cell: Income type of applicants by target variable\n"
      ]
    },
    {
      "cell_type": "markdown",
      "id": "675b1ae3-c943-4737-bdb8-2ecff733b27b",
      "metadata": {
        "id": "675b1ae3-c943-4737-bdb8-2ecff733b27b"
      },
      "source": [
        "## 2. Preprocessing"
      ]
    },
    {
      "cell_type": "markdown",
      "id": "VvT_6ZEOztAQ",
      "metadata": {
        "id": "VvT_6ZEOztAQ"
      },
      "source": [
        "2.1. The first step will be separate our train and test datasets columns between Features and Targets.\n",
        "\n",
        "- Assign to `X_train` those columns from `app_train` that should be used as features for training our models.\n",
        "- Assign to `y_train` the single column from `app_train` that should be used as our target (i.e. what we want to predict).\n",
        "- Assign to `X_test` those columns from `app_test` that should be used as features for training our models.\n",
        "- Assign to `y_test` the single column from `app_test` that should be used as our target (i.e. what we want to predict).\n"
      ]
    },
    {
      "cell_type": "code",
      "execution_count": null,
      "id": "Mm9px1oQztZT",
      "metadata": {
        "id": "Mm9px1oQztZT"
      },
      "outputs": [],
      "source": [
        "### Complete in this cell\n",
        "X_train =\n",
        "y_train = \n",
        "X_test =\n",
        "y_test =\n"
      ]
    },
    {
      "cell_type": "markdown",
      "id": "wrkoywq9aNvJ",
      "metadata": {
        "id": "wrkoywq9aNvJ"
      },
      "source": [
        "**Don't change anything in this cell, just make it run correctly**"
      ]
    },
    {
      "cell_type": "code",
      "execution_count": null,
      "id": "5F5UeGj1aNvJ",
      "metadata": {
        "id": "5F5UeGj1aNvJ"
      },
      "outputs": [],
      "source": [
        "if X_train.shape == (215257, 122):\n",
        "  print('Success: X_train shape is correct!')\n",
        "else:\n",
        "  raise ValueError('X_train dataset shape is incorrect, please review your code')\n",
        "\n",
        "if isinstance(X_train, pd.DataFrame):\n",
        "  print('Success: X_train type is correct!')\n",
        "else:\n",
        "  raise ValueError('Train dataset type is incorrect, please review your code')\n",
        "\n",
        "if y_train.shape == (215257,) or y_train.shape == (215257, 1):\n",
        "  print('Success: y_train shape is correct!')\n",
        "else:\n",
        "  raise ValueError('Train labels shape is incorrect, please review your code')\n",
        "\n",
        "if X_test.shape == (92254, 122):\n",
        "  print('Success: X_test shape is correct!')\n",
        "else:\n",
        "  raise ValueError('Test dataset shape is incorrect, please review your code')\n",
        "\n",
        "if isinstance(X_test, pd.DataFrame):\n",
        "  print('Success: X_test type is correct!')\n",
        "else:\n",
        "  raise ValueError('Test dataset type is incorrect, please review your code')\n",
        "\n",
        "if y_test.shape == (92254,) or y_test.shape == (92254, 1):\n",
        "  print('Success: y_test shape is correct!')\n",
        "else:\n",
        "  raise ValueError('Test labels shape is incorrect, please review your code')\n"
      ]
    },
    {
      "cell_type": "markdown",
      "id": "51397c38-0204-454b-8fe6-011dc8c38418",
      "metadata": {
        "id": "51397c38-0204-454b-8fe6-011dc8c38418"
      },
      "source": [
        "2.2. In this section, you will code a function to make all the data pre processing for the dataset. What you have to deliver is a function that takes `X_train` and `X_test` dataframes, processes all features, and returns the transformed data as numpy arrays ready to be used for training.\n",
        "\n",
        "The function should perform these activities:\n",
        "\n",
        "- Correct outliers/anomalous values in numerical columns (hint: take a look at the DAYS_EMPLOYED column)\n",
        "- Impute values for all columns with missing data (use median as imputing value)\n",
        "- Encode categorical features:\n",
        "    - If feature has 2 categories encode using binary encoding\n",
        "    - More than 2 categories, use one hot encoding \n",
        "- Feature scaling\n",
        "\n",
        "**Important note:** Keep in mind that you could get different number of columns in train and test because some category could only be present in one of the dataframes, this could create more one hot encoded columns. You should align train and test to have the same number of columns. Check `pandas.DataFrame.align()` function.\n",
        "\n",
        "Complete the function `preprocess_data(train_df: pd.DataFrame, test_df: pd.DataFrame)` following the instructions given above."
      ]
    },
    {
      "cell_type": "code",
      "execution_count": null,
      "id": "27bfc706-a0ab-4711-9bb1-4fa77a6993d3",
      "metadata": {
        "id": "27bfc706-a0ab-4711-9bb1-4fa77a6993d3"
      },
      "outputs": [],
      "source": [
        "### Complete in this cell: Data pre processing function\n",
        "def preprocess_data(train_df: pd.DataFrame, test_df: pd.DataFrame) -> Tuple[np.ndarray, np.ndarray]:\n",
        "  \"\"\"\n",
        "  Pre processes data for modeling. Receives train and testing dataframes \n",
        "  for Home Credit Competition, and returns numpy ndarrays of cleaned up \n",
        "  dataframes with feature engineering already performed.\n",
        "  \n",
        "  Arguments:\n",
        "      train_df: pd.DataFrame\n",
        "      test_df: pd.DataFrame\n",
        "      \n",
        "  Returns:\n",
        "      train_data: np.ndarrary\n",
        "      test_data: np.ndarrary\n",
        "  \"\"\"\n",
        "  # Complete this function\n"
      ]
    },
    {
      "cell_type": "markdown",
      "id": "-1YXG39vc2qX",
      "metadata": {
        "id": "-1YXG39vc2qX"
      },
      "source": [
        "In the following cell we are going to execute the functions you've just coded. No need to modify this.\n",
        "\n",
        "**Important Note:** From now on, you must always use `train_data` for training your models and `test_data` only for the final evaluation of the model trained."
      ]
    },
    {
      "cell_type": "markdown",
      "id": "mMkqwi0gd7a8",
      "metadata": {
        "id": "mMkqwi0gd7a8"
      },
      "source": [
        "**Don't change anything in this cell, just make it run correctly**"
      ]
    },
    {
      "cell_type": "code",
      "execution_count": null,
      "id": "98df784f-3e3c-42ac-8c09-b6a3d8dacf8b",
      "metadata": {
        "id": "98df784f-3e3c-42ac-8c09-b6a3d8dacf8b"
      },
      "outputs": [],
      "source": [
        "train_data, test_data = preprocess_data(X_train, X_test)"
      ]
    },
    {
      "cell_type": "markdown",
      "id": "rupRp_y2cyYe",
      "metadata": {
        "id": "rupRp_y2cyYe"
      },
      "source": [
        "**Don't change anything in this cell, just make it run correctly**"
      ]
    },
    {
      "cell_type": "code",
      "execution_count": null,
      "id": "whWcb5jtcyYe",
      "metadata": {
        "id": "whWcb5jtcyYe"
      },
      "outputs": [],
      "source": [
        "if train_data.shape == (215257, 242):\n",
        "  print('Success: train_data shape is correct!')\n",
        "else:\n",
        "  raise ValueError('train_data dataset shape is incorrect, please review your code')\n",
        "\n",
        "if isinstance(train_data, np.ndarray):\n",
        "  print('Success: train_data type is correct!')\n",
        "else:\n",
        "  raise ValueError('Train dataset type is incorrect, please review your code')\n",
        "\n",
        "if test_data.shape == (92254, 242):\n",
        "  print('Success: test_data shape is correct!')\n",
        "else:\n",
        "  raise ValueError('test_data dataset shape is incorrect, please review your code')\n",
        "\n",
        "if isinstance(test_data, np.ndarray):\n",
        "  print('Success: test_data type is correct!')\n",
        "else:\n",
        "  raise ValueError('Train dataset type is incorrect, please review your code')\n"
      ]
    },
    {
      "cell_type": "markdown",
      "id": "2f5df1e8-1f03-4f14-9dbd-292d3b84859d",
      "metadata": {
        "id": "2f5df1e8-1f03-4f14-9dbd-292d3b84859d"
      },
      "source": [
        "## 3. Training Models"
      ]
    },
    {
      "cell_type": "markdown",
      "id": "83062f02-7157-4083-b57b-78fbc95fe39b",
      "metadata": {
        "id": "83062f02-7157-4083-b57b-78fbc95fe39b"
      },
      "source": [
        "As usual, you will start training simple models and will progressively move to more complex models and pipelines.\n",
        "\n",
        "**Pro tip:** It is of utmost importance to make an accurate estimation of the time required to train a machine learning model. Because of this, we recommend you to use Python [time](https://docs.python.org/3/library/time.html) library or Jupyter magic function `%%time` on the cell you're training your model to get an estimate of the time it took to fit your data."
      ]
    },
    {
      "cell_type": "markdown",
      "id": "7e99a786-a17e-4caa-9ac7-48fced40fa71",
      "metadata": {
        "id": "7e99a786-a17e-4caa-9ac7-48fced40fa71"
      },
      "source": [
        "### Baseline: LogisticRegression"
      ]
    },
    {
      "cell_type": "markdown",
      "id": "91e10796-6d86-4fce-8738-4b9c4fbbf359",
      "metadata": {
        "id": "91e10796-6d86-4fce-8738-4b9c4fbbf359"
      },
      "source": [
        "3.1. Import LogisticRegression from sklearn and train a model using the preprocesed train data from the previous section, and just default parameters. If you receive a warning because the algorithm failed to converge, try increasing the number of iterations or decreasing the C parameter.\n",
        "\n",
        "Assign the trained model to `log_reg` variable."
      ]
    },
    {
      "cell_type": "code",
      "execution_count": null,
      "id": "e1285054-4ea6-4bdb-9477-e774fc3d04c5",
      "metadata": {
        "id": "e1285054-4ea6-4bdb-9477-e774fc3d04c5"
      },
      "outputs": [],
      "source": [
        "### Complete in this cell: train a logistic regression, assign to `log_reg` variable\n",
        "log_reg = \n"
      ]
    },
    {
      "cell_type": "markdown",
      "id": "2OTXvqibhqid",
      "metadata": {
        "id": "2OTXvqibhqid"
      },
      "source": [
        "**Don't change anything in this cell, just make it run correctly**"
      ]
    },
    {
      "cell_type": "code",
      "execution_count": null,
      "id": "JmFsb5DShqid",
      "metadata": {
        "id": "JmFsb5DShqid"
      },
      "outputs": [],
      "source": [
        "if isinstance(log_reg, LogisticRegression):\n",
        "  print('Success: Logistic regression model type is correct!')\n",
        "else:\n",
        "  raise ValueError('Logistic regression model type is incorrect, please review your code')\n",
        "\n",
        "check_is_fitted(log_reg)"
      ]
    },
    {
      "cell_type": "markdown",
      "id": "018d5c7e-012f-47cc-8bfc-0332de907ae9",
      "metadata": {
        "id": "018d5c7e-012f-47cc-8bfc-0332de907ae9"
      },
      "source": [
        "3.2. Use the trained model to predict probabilities for the test data.\n",
        "\n",
        "**Important note:** When using the function `predict_proba()` for getting model probabilities you will get, for each sample, a tuple indicating the probability for class 0 and for class 1 respectively. For computing the AUC ROC score we only need the probability that the debt is not repaid (equivalent to class 1)."
      ]
    },
    {
      "cell_type": "code",
      "execution_count": null,
      "id": "798ae69b-1fe2-458d-9de7-3e1ed70b9b02",
      "metadata": {
        "id": "798ae69b-1fe2-458d-9de7-3e1ed70b9b02"
      },
      "outputs": [],
      "source": [
        "### Complete in this cell: predict test data\n"
      ]
    },
    {
      "cell_type": "markdown",
      "id": "b0826305-4900-4ba1-bf25-48205be980c6",
      "metadata": {
        "id": "b0826305-4900-4ba1-bf25-48205be980c6"
      },
      "source": [
        "3.3. Get AUC ROC score on test dataset. See [scikit-learn AUC ROC function](https://scikit-learn.org/stable/modules/generated/sklearn.metrics.roc_auc_score.html) for a working implementation.\n",
        "\n",
        "Assign the AUC ROC score to `lr_roc_auc` variable.\n"
      ]
    },
    {
      "cell_type": "code",
      "execution_count": null,
      "id": "9_KaFn_oyXT3",
      "metadata": {
        "id": "9_KaFn_oyXT3"
      },
      "outputs": [],
      "source": [
        "### Complete in this cell: calculate roc_auc_score.\n",
        "### Assign to `lr_roc_auc` variable.\n",
        "lr_roc_auc = "
      ]
    },
    {
      "cell_type": "markdown",
      "id": "4d889582-0c21-4789-acac-4d58f8eb74d9",
      "metadata": {
        "id": "4d889582-0c21-4789-acac-4d58f8eb74d9"
      },
      "source": [
        "At this point, the model should produce a result around 0.67 "
      ]
    },
    {
      "cell_type": "markdown",
      "id": "ap_JpPoNidg2",
      "metadata": {
        "id": "ap_JpPoNidg2"
      },
      "source": [
        "**Don't change anything in this cell, just make it run correctly**"
      ]
    },
    {
      "cell_type": "code",
      "execution_count": null,
      "id": "KWSHN2Ouidg2",
      "metadata": {
        "id": "KWSHN2Ouidg2"
      },
      "outputs": [],
      "source": [
        "if isinstance(lr_roc_auc, float):\n",
        "  print('Success: AUC ROC score type is correct!')\n",
        "else:\n",
        "  raise ValueError('AUC ROC score type is incorrect, please review your code')\n",
        "\n",
        "if lr_roc_auc >= 0.63:\n",
        "  print('Success: AUC ROC score is correct!')\n",
        "else:\n",
        "  raise ValueError('AUC ROC score is incorrect, please review your code')"
      ]
    },
    {
      "cell_type": "markdown",
      "id": "8f8300cc-d8be-4303-9042-757cb9e15d3e",
      "metadata": {
        "id": "8f8300cc-d8be-4303-9042-757cb9e15d3e"
      },
      "source": [
        "### Training a Random Forest Classifier "
      ]
    },
    {
      "cell_type": "markdown",
      "id": "05280b49-11af-4fe6-9236-95f31fb5e0d5",
      "metadata": {
        "id": "05280b49-11af-4fe6-9236-95f31fb5e0d5"
      },
      "source": [
        "You're gonna start working in more complex models: ensambles, particularly, you're going to use the Random Forest Classifier from Scikit Learn. "
      ]
    },
    {
      "cell_type": "markdown",
      "id": "0efdfd67-ec68-49b3-8727-7ab9784b5e54",
      "metadata": {
        "id": "0efdfd67-ec68-49b3-8727-7ab9784b5e54"
      },
      "source": [
        "3.4. Train a RandomForestClassifier, print the time taken by the fit function. Just use default hyperparameters, except for n_jobs, which should be set to \"-1\" to allow the library to use all CPU cores to speed up training time.\n",
        "\n",
        "Assign the trained model to `rf` variable."
      ]
    },
    {
      "cell_type": "code",
      "execution_count": null,
      "id": "1d3b9ea6-4bf9-42f0-aed1-1c0f3a4f9b39",
      "metadata": {
        "id": "1d3b9ea6-4bf9-42f0-aed1-1c0f3a4f9b39"
      },
      "outputs": [],
      "source": [
        "### Complete in this cell: train a RandomForestClassifier\n",
        "### Assgign to `rf`\n",
        "rf =\n"
      ]
    },
    {
      "cell_type": "markdown",
      "id": "3b12a0a5-8ff1-4cb6-9928-37122d2a3435",
      "metadata": {
        "id": "3b12a0a5-8ff1-4cb6-9928-37122d2a3435"
      },
      "source": [
        "3.5. Use the classifier to predict probabilities on the test set.\n",
        "\n"
      ]
    },
    {
      "cell_type": "code",
      "execution_count": null,
      "id": "4ba80108-858c-4d4e-ba19-7f19fa526dc9",
      "metadata": {
        "id": "4ba80108-858c-4d4e-ba19-7f19fa526dc9"
      },
      "outputs": [],
      "source": [
        "### Complete in this cell: predict test data and store in\n"
      ]
    },
    {
      "cell_type": "markdown",
      "id": "W3TrmlUF2pDM",
      "metadata": {
        "id": "W3TrmlUF2pDM"
      },
      "source": [
        "3.6. Get AUC ROC score on test dataset.\n",
        "\n",
        "Assign the AUC ROC score to `rf_roc_auc` variable.\n"
      ]
    },
    {
      "cell_type": "code",
      "execution_count": null,
      "id": "D4jft3Sw2pDN",
      "metadata": {
        "id": "D4jft3Sw2pDN"
      },
      "outputs": [],
      "source": [
        "### Complete in this cell: calculate roc_auc_score.\n",
        "### Assign to `rf_roc_auc` variable.\n",
        "rf_roc_auc ="
      ]
    },
    {
      "cell_type": "markdown",
      "id": "8_buAhkG24ZC",
      "metadata": {
        "id": "8_buAhkG24ZC"
      },
      "source": [
        "At this point, the model should produce a result around 0.7"
      ]
    },
    {
      "cell_type": "markdown",
      "id": "-1iYZeNjW-pR",
      "metadata": {
        "id": "-1iYZeNjW-pR"
      },
      "source": [
        "**Don't change anything in this cell, just make it run correctly**"
      ]
    },
    {
      "cell_type": "code",
      "execution_count": null,
      "id": "G1I6K19KW-pa",
      "metadata": {
        "id": "G1I6K19KW-pa"
      },
      "outputs": [],
      "source": [
        "if isinstance(rf_roc_auc, float):\n",
        "  print('Success: AUC ROC score type is correct!')\n",
        "else:\n",
        "  raise ValueError('AUC ROC score type is incorrect, please review your code')\n",
        "\n",
        "if rf_roc_auc >= 0.66:\n",
        "  print('Success: AUC ROC score is correct!')\n",
        "else:\n",
        "  raise ValueError('AUC ROC score is incorrect, please review your code')"
      ]
    },
    {
      "cell_type": "markdown",
      "id": "4acfcc24-62b6-4118-9c42-a0268dcf5c53",
      "metadata": {
        "id": "4acfcc24-62b6-4118-9c42-a0268dcf5c53"
      },
      "source": [
        "### Randomized Search with Cross Validation"
      ]
    },
    {
      "cell_type": "markdown",
      "id": "dd634b2b-68af-4db1-b062-1496f8d1179e",
      "metadata": {
        "id": "dd634b2b-68af-4db1-b062-1496f8d1179e"
      },
      "source": [
        "So far, we've only created models using the default hyperparameters of each algorithm. This is usually something that we would only do for baseline models, hyperparameter tuning is a very important part of the modeling process and is often the difference between having an acceptable model or not.\n",
        "\n",
        "But, there are usually lots of hyperparameters to tune and a finite amount of time to do it, you have to consider the time and resources it takes to find an optimal combination of them. In the previous section you trained a random forest classifier and saw how much it took to train it once in your PC. If you want to do hyperparameter optimization you now have to consider that you will have to train the algorithm N number of times, with N being the cartesian product of all parameters. \n",
        "\n",
        "Furthermore, you can't validate the performance of your trained models on the test set, as this data should only be used to validate the final model. So we have to implement a validation strategy, K-Fold Cross Validation being the most common. But this also adds time complexity to our training, because we will have to train each combinations of hyperparameters M number of times, X being the number of folds in which we divided our dataset, so the total number of training iterations will be NxM... this resulting number can grow VERY quickly.\n",
        "\n",
        "Fortunately there are strategies to mitigate this, here you're going to select a small number of hyperparameters to test a RandomForestClassifier, and use a Randomized Search algorithm with K-Fold Cross Validation to avoid doing a full search across the grid. \n",
        "\n",
        "Remember: take in consideration how much time it took to train a single classifier, and define the number of cross validations folds and iterations of the search accordingly. \n",
        "A recommendation: run the training process, go make yourself a cup of coffee, sit somewhere comfortably and forget about it for a while.\n"
      ]
    },
    {
      "cell_type": "markdown",
      "id": "c49a11c7-156f-46bb-8bba-be29d1b2ed1a",
      "metadata": {
        "id": "c49a11c7-156f-46bb-8bba-be29d1b2ed1a"
      },
      "source": [
        "3.7. Use RandomizedSearchCV to find the best combination of hyperparameters for a RandomForestClassifier. The validation metric used to evaluate the models should be \"roc_auc\" (i.e. `scoring=\"roc_auc\"`).\n",
        "\n",
        "Assign the trained model to `rf_random` variable."
      ]
    },
    {
      "cell_type": "code",
      "execution_count": null,
      "id": "0cb4c536-82d8-49f8-a0b6-fede491055c1",
      "metadata": {
        "id": "0cb4c536-82d8-49f8-a0b6-fede491055c1"
      },
      "outputs": [],
      "source": [
        "### Complete in this cell: Use RandomizedSearchCV to find the best combination \n",
        "### of hyperparameters for a RandomForestClassifier.\n",
        "### Assign the model to `rf_random`\n",
        "rf_random = "
      ]
    },
    {
      "cell_type": "markdown",
      "id": "b09205aa-5afc-481a-b45b-d5e80b56d804",
      "metadata": {
        "id": "b09205aa-5afc-481a-b45b-d5e80b56d804"
      },
      "source": [
        "3.8. Use the classifier to predict probabilities on the test set.\n"
      ]
    },
    {
      "cell_type": "code",
      "execution_count": null,
      "id": "4429ca94-57f4-487e-b3dd-883bc7bc7835",
      "metadata": {
        "id": "4429ca94-57f4-487e-b3dd-883bc7bc7835"
      },
      "outputs": [],
      "source": [
        "### Complete in this cell: predict test data and save csv\n"
      ]
    },
    {
      "cell_type": "markdown",
      "id": "e645e849-a7e0-43af-b7d1-0b84c29f0e70",
      "metadata": {
        "id": "e645e849-a7e0-43af-b7d1-0b84c29f0e70"
      },
      "source": [
        "3.9. Get AUC ROC score on test dataset.\n",
        "\n",
        "Assign the AUC ROC score to `rf_tuned_roc_auc` variable."
      ]
    },
    {
      "cell_type": "code",
      "execution_count": null,
      "id": "953f2204-304a-405b-b51b-350f054eb3f4",
      "metadata": {
        "id": "953f2204-304a-405b-b51b-350f054eb3f4"
      },
      "outputs": [],
      "source": [
        "### Complete in this cell: calculate roc_auc_score.\n",
        "### Assign to `rf_tuned_roc_auc` variable.\n",
        "rf_tuned_roc_auc ="
      ]
    },
    {
      "cell_type": "markdown",
      "id": "_ZAAkhx1X1Qt",
      "metadata": {
        "id": "_ZAAkhx1X1Qt"
      },
      "source": [
        "At this point, the model should produce a result around 0.7 or higher."
      ]
    },
    {
      "cell_type": "markdown",
      "id": "2nziyTPMX1Qu",
      "metadata": {
        "id": "2nziyTPMX1Qu"
      },
      "source": [
        "**Don't change anything in this cell, just make it run correctly**"
      ]
    },
    {
      "cell_type": "code",
      "execution_count": null,
      "id": "nlDvoWwGX1Qu",
      "metadata": {
        "id": "nlDvoWwGX1Qu"
      },
      "outputs": [],
      "source": [
        "if isinstance(rf_tuned_roc_auc, float):\n",
        "  print('Success: AUC ROC score type is correct!')\n",
        "else:\n",
        "  raise ValueError('AUC ROC score type is incorrect, please review your code')\n",
        "\n",
        "if rf_tuned_roc_auc >= 0.7:\n",
        "  print('Success: AUC ROC score is correct!')\n",
        "else:\n",
        "  raise ValueError('AUC ROC score is incorrect, please review your code')"
      ]
    },
    {
      "cell_type": "markdown",
      "id": "be101430-3682-468d-a43d-8c78f60f96a5",
      "metadata": {
        "id": "be101430-3682-468d-a43d-8c78f60f96a5"
      },
      "source": [
        "3.10. Optional: If you have the time and resources, you can train the model for longer iterations, or select more estimator sizes. This is optional, but if you, we would love to see your results."
      ]
    },
    {
      "cell_type": "markdown",
      "id": "d72e7335-f3cc-410d-81f2-f110f3fbb252",
      "metadata": {
        "id": "d72e7335-f3cc-410d-81f2-f110f3fbb252"
      },
      "source": [
        "### Optional: Training a LightGBM model "
      ]
    },
    {
      "cell_type": "markdown",
      "id": "015d58b7-9f70-4bfb-8b72-20a626e00ea0",
      "metadata": {
        "id": "015d58b7-9f70-4bfb-8b72-20a626e00ea0"
      },
      "source": [
        "3.11. Gradient Boosting Machine is one of the most used machine learning algorithms for tabular data. Lots of competitions have been won using models from libraries like XGBoost or LightGBM. You can try using [LightGBM](https://lightgbm.readthedocs.io/en/latest/) to train a new model an see how it performs compared to the other classifiers you trained. "
      ]
    },
    {
      "cell_type": "code",
      "execution_count": null,
      "id": "91d497eb-2b8b-43fe-945e-26a04b8fc004",
      "metadata": {
        "id": "91d497eb-2b8b-43fe-945e-26a04b8fc004"
      },
      "outputs": [],
      "source": [
        "### Complete in this cell: train a LightGBM model\n"
      ]
    },
    {
      "cell_type": "markdown",
      "id": "c2d1a1f4-5e1e-4982-a6ae-a27b8c11428e",
      "metadata": {
        "id": "c2d1a1f4-5e1e-4982-a6ae-a27b8c11428e"
      },
      "source": [
        "### Optional: Using Scikit Learn Pipelines "
      ]
    },
    {
      "cell_type": "markdown",
      "id": "2e4f95fb-73bf-42c4-97a3-80078f2496aa",
      "metadata": {
        "id": "2e4f95fb-73bf-42c4-97a3-80078f2496aa"
      },
      "source": [
        "3.12. So far you've created special functions or blocks or code to chain operations on data and then train the models. But, reproducibility is important, and you don't want to have to remember the correct steps to follow each time you have new data to train your models. There are a lots of tools out there that can help you with that, here you can use a [Sklearn Pipeline](https://scikit-learn.org/stable/modules/generated/sklearn.pipeline.Pipeline.html) to process your data."
      ]
    },
    {
      "cell_type": "code",
      "execution_count": null,
      "id": "5a5eecdf-ee08-4ebd-8667-25cdb9a3eef4",
      "metadata": {
        "id": "5a5eecdf-ee08-4ebd-8667-25cdb9a3eef4"
      },
      "outputs": [],
      "source": [
        "### Complete in this cell: use a sklearn Pipeline to automate the cleaning, standardizing and training\n"
      ]
    }
  ],
  "metadata": {
    "colab": {
      "collapsed_sections": [],
      "provenance": []
    },
    "kernelspec": {
      "display_name": "Python 3.10.7 ('.venv': venv)",
      "language": "python",
      "name": "python3"
    },
    "language_info": {
      "codemirror_mode": {
        "name": "ipython",
        "version": 3
      },
      "file_extension": ".py",
      "mimetype": "text/x-python",
      "name": "python",
      "nbconvert_exporter": "python",
      "pygments_lexer": "ipython3",
      "version": "3.10.7"
    },
    "vscode": {
      "interpreter": {
        "hash": "4a15c2e038f526a5e5d2ec5d3a7b8b45d94b3dcd31726d682f879204c501748a"
      }
    }
  },
  "nbformat": 4,
  "nbformat_minor": 5
}
